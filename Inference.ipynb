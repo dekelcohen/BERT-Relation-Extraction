{
 "cells": [
  {
   "cell_type": "code",
   "execution_count": null,
   "id": "221bf229",
   "metadata": {},
   "outputs": [],
   "source": [
    "from src.tasks.infer import infer_from_trained"
   ]
  },
  {
   "cell_type": "code",
   "execution_count": null,
   "id": "076ae07f",
   "metadata": {},
   "outputs": [],
   "source": [
    "class D:\n",
    "    pass\n",
    "        \n",
    "args = D()\n",
    "args.model_no = 0\n",
    "args.model_size = 'bert-base-uncased'\n",
    "args.num_classes = 4 # TODO: Important: Change for nyt_mix_news to 4. NYT - 3\n",
    "\n",
    "task = 'classification' # classification for proba / infer_one_sentence_labels"
   ]
  },
  {
   "cell_type": "code",
   "execution_count": null,
   "id": "1dbecb5b",
   "metadata": {},
   "outputs": [],
   "source": [
    "inferer = infer_from_trained(args, detect_entities=False, load_best=True, task=task)"
   ]
  },
  {
   "cell_type": "markdown",
   "id": "4008c799",
   "metadata": {},
   "source": [
    "## Extract Embeddings from BERT"
   ]
  },
  {
   "cell_type": "code",
   "execution_count": null,
   "id": "35ba2a2b",
   "metadata": {},
   "outputs": [],
   "source": [
    "import pandas as pd\n",
    "\n",
    "def get_sent_embs(sent):\n",
    "    inferer.net.task = 'fewrel'\n",
    "    return inferer.get_one_sent_output(sent)[0].cpu().numpy()    \n",
    "\n",
    "def get_all_embs(df,data_path,inferer):\n",
    "    ddf = df\n",
    "    if ddf is None:\n",
    "        ddf = pd.read_pickle(data_path)\n",
    "    \n",
    "    ddf = ddf[ddf.sents.str.len() < inferer.tokenizer.max_len]\n",
    "            \n",
    "    ddf['emb'] = ddf.sents.apply(get_sent_embs)    \n",
    "    return ddf\n",
    "\n",
    "def convert_emb_to_df_cols(df):    \n",
    "    new_df = pd.concat([df.drop(columns='emb'),pd.DataFrame(df.emb.tolist())],axis=1)\n",
    "    cols = list(set(new_df.columns) - set(['sents', 'relations', 'relations_id']))\n",
    "    return new_df, cols"
   ]
  },
  {
   "cell_type": "code",
   "execution_count": null,
   "id": "d998dc08",
   "metadata": {},
   "outputs": [],
   "source": [
    "df_test = get_all_embs(None, './data/df_test.pkl',inferer)\n",
    "df_test,cols = convert_emb_to_df_cols(df_test.reset_index(drop=True))\n",
    "df_train = get_all_embs(None, './data/df_train.pkl',inferer)\n",
    "df_train,_ = convert_emb_to_df_cols(df_train.reset_index(drop=True))"
   ]
  },
  {
   "cell_type": "markdown",
   "id": "6c3ecb2a",
   "metadata": {},
   "source": [
    "## Find similar samples"
   ]
  },
  {
   "cell_type": "code",
   "execution_count": null,
   "id": "be977ea7",
   "metadata": {},
   "outputs": [],
   "source": [
    "import sys\n",
    "sys.path += ['/home/dekelco/views/dsutil/']"
   ]
  },
  {
   "cell_type": "code",
   "execution_count": null,
   "id": "6ba8e688",
   "metadata": {},
   "outputs": [],
   "source": [
    "from error_analysis.similar_samples import SimilarSamples"
   ]
  },
  {
   "cell_type": "code",
   "execution_count": null,
   "id": "616f449f",
   "metadata": {},
   "outputs": [],
   "source": [
    "ss = SimilarSamples(df_train, columns=cols)"
   ]
  },
  {
   "cell_type": "code",
   "execution_count": null,
   "id": "638a0248",
   "metadata": {},
   "outputs": [],
   "source": [
    "df_sim = ss.merge_similar_rows(df_test[10:20], k=2).reset_index()"
   ]
  },
  {
   "cell_type": "code",
   "execution_count": null,
   "id": "dbec7889",
   "metadata": {
    "scrolled": true
   },
   "outputs": [],
   "source": [
    "s = df_sim.style\n",
    "tt = pd.DataFrame(data=df_sim.sents_x.tolist(), columns=['sents_x'], index=df_sim.index)\n",
    "s.set_tooltips(tt)\n",
    "df_sim2 = df_sim.filter(regex=(\"index|sents|relations|relations_id\"))\n",
    "df_sim2.head(20)"
   ]
  },
  {
   "cell_type": "code",
   "execution_count": null,
   "id": "62e18974",
   "metadata": {},
   "outputs": [],
   "source": [
    "n=11\n",
    "print(df_sim2.iloc[n].sents_x)\n",
    "print()\n",
    "print(df_sim2.iloc[n].sents_y)"
   ]
  },
  {
   "cell_type": "markdown",
   "id": "dc3b8e7f",
   "metadata": {},
   "source": [
    "## Predict single sample"
   ]
  },
  {
   "cell_type": "code",
   "execution_count": null,
   "id": "b692a680",
   "metadata": {},
   "outputs": [],
   "source": [
    "sent = \"The CEO of [E1] IBM [\\E1] , [E2] Steve Cohen [\\E2] , indicated that he is contributing 12 million Euros in aid this year \"\n",
    "inferer.net.task = 'classification'\n",
    "preds = inferer.infer_one_sentence_labels(sent)\n",
    "\n",
    "emb = get_sent_embs(sent)\n",
    "df_single = pd.DataFrame(data=[sent],columns=['sents'])\n",
    "df_single = pd.concat([df_single,pd.DataFrame(data=[emb.tolist()])],axis=1)\n",
    "\n",
    "\n",
    "df_sim3 = ss.merge_similar_rows(df_single, k=1).reset_index()\n",
    "print('**sentence**')\n",
    "print(df_sim3.iloc[0].sents_x)\n",
    "print('\\n**most similar**')\n",
    "print(df_sim2.iloc[0].sents_y)\n",
    "print(f'\\n**similar class={df_sim2.iloc[0].relations_y}**')\n",
    "preds"
   ]
  },
  {
   "cell_type": "markdown",
   "id": "6ea6bf66",
   "metadata": {},
   "source": [
    "### Spacy"
   ]
  },
  {
   "cell_type": "code",
   "execution_count": null,
   "id": "d6501aa3",
   "metadata": {},
   "outputs": [],
   "source": [
    "import spacy\n",
    "nlp = spacy.load('en_core_web_trf')"
   ]
  },
  {
   "cell_type": "code",
   "execution_count": null,
   "id": "83496e15",
   "metadata": {},
   "outputs": [],
   "source": [
    "sent = \"European Investment Bank President ,Warner Heuer\"\n",
    "sents_doc = nlp(sent)\n",
    "ents = sents_doc.ents # get entities\n",
    "for ent in ents:\n",
    "    print(ent.label_, ent.text)"
   ]
  }
 ],
 "metadata": {
  "kernelspec": {
   "display_name": "Python 3 (ipykernel)",
   "language": "python",
   "name": "python3"
  },
  "language_info": {
   "codemirror_mode": {
    "name": "ipython",
    "version": 3
   },
   "file_extension": ".py",
   "mimetype": "text/x-python",
   "name": "python",
   "nbconvert_exporter": "python",
   "pygments_lexer": "ipython3",
   "version": "3.8.12"
  }
 },
 "nbformat": 4,
 "nbformat_minor": 5
}
